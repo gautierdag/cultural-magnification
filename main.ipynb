{
 "cells": [
  {
   "cell_type": "code",
   "execution_count": 1,
   "metadata": {},
   "outputs": [],
   "source": [
    "import pickle\n",
    "import argparse\n",
    "import sys\n",
    "import numpy as np\n",
    "\n",
    "import torch\n",
    "import torch.nn as nn\n",
    "from torch.nn import functional as F\n",
    "\n",
    "from torch.utils.data import random_split, DataLoader\n",
    "from tensorboardX import SummaryWriter\n",
    "\n",
    "from data import AgentVocab, ILDataset, get_encoded_metadata, generate_uniform_language_fixed_length\n",
    "from utils import *\n",
    "\n",
    "device = torch.device(\"cuda\" if torch.cuda.is_available() else \"cpu\")\n",
    "\n",
    "SEED = 42\n",
    "VOCAB_SIZE = 10\n",
    "MAX_LENGTH = 5\n",
    "BATCH_SIZE = 64\n",
    "NUM_ITERATIONS = 1000\n",
    "LOG_INTERVAL = 100"
   ]
  },
  {
   "cell_type": "markdown",
   "metadata": {},
   "source": [
    "#### Seed and load data"
   ]
  },
  {
   "cell_type": "code",
   "execution_count": 2,
   "metadata": {},
   "outputs": [],
   "source": [
    "seed_torch(seed=SEED)\n",
    "\n",
    "vocab = AgentVocab(VOCAB_SIZE)\n",
    "meta = get_encoded_metadata()"
   ]
  },
  {
   "cell_type": "markdown",
   "metadata": {},
   "source": [
    "### Model"
   ]
  },
  {
   "cell_type": "code",
   "execution_count": 3,
   "metadata": {},
   "outputs": [],
   "source": [
    "class LSTMModel(nn.Module):\n",
    "    def __init__(self,\n",
    "        vocab_size,\n",
    "        max_length,\n",
    "        hidden_size=256\n",
    "    ):\n",
    "        super().__init__()\n",
    "        self.vocab_size = vocab_size\n",
    "        self.max_length = max_length+1\n",
    "        self.hidden_size = hidden_size\n",
    "\n",
    "        # transformation of the input to hidden\n",
    "        self.linear_in = nn.Linear(14, hidden_size)\n",
    "        # recurrent cell\n",
    "        self.rnn = nn.LSTMCell(hidden_size, hidden_size)\n",
    "        # from a hidden state to the vocab\n",
    "        self.linear_out = nn.Linear(\n",
    "            hidden_size, vocab_size\n",
    "        )\n",
    "            \n",
    "    def forward(self, inputs, hidden=None):\n",
    "        \"\"\"\n",
    "        Performs a forward pass\n",
    "        \"\"\"\n",
    "        batch_size = inputs.shape[0]\n",
    "        \n",
    "        x = self.linear_in(inputs)\n",
    "        outputs = []\n",
    "        \n",
    "        h = torch.zeros([batch_size, self.hidden_size], device=device)\n",
    "        c = torch.zeros([batch_size, self.hidden_size], device=device)\n",
    "        \n",
    "        state = (h, c)\n",
    "        \n",
    "        for i in range(self.max_length):\n",
    "            state = self.rnn(x, state)\n",
    "            h, _ = state\n",
    "            outputs.append(self.linear_out(h))\n",
    "        \n",
    "        outputs = F.softmax(torch.stack(outputs, dim=1), dim=2)\n",
    "        return outputs"
   ]
  },
  {
   "cell_type": "markdown",
   "metadata": {},
   "source": [
    "### Trainer"
   ]
  },
  {
   "cell_type": "code",
   "execution_count": 4,
   "metadata": {},
   "outputs": [],
   "source": [
    "class ILTrainer(nn.Module):\n",
    "    def __init__(self, model):\n",
    "        super().__init__()\n",
    "        self.model = model\n",
    "        self.criterion = nn.CrossEntropyLoss(reduction=\"mean\")\n",
    "\n",
    "    def forward(self, batch, targets):\n",
    "        batch_size, seq_length  = targets.shape[0], targets.shape[1]\n",
    "\n",
    "        predictions = self.model(batch)\n",
    "        loss = self.criterion(predictions.reshape(-1, predictions.shape[2]), targets.reshape(-1))\n",
    "        \n",
    "        # Calculate accuracy\n",
    "        sequences = torch.argmax(predictions, dim=2)\n",
    "        accuracy = (torch.sum(sequences == targets).type(torch.float) / (batch_size*seq_length))\n",
    "\n",
    "        return loss, torch.mean(accuracy), sequences"
   ]
  },
  {
   "cell_type": "code",
   "execution_count": 6,
   "metadata": {},
   "outputs": [
    {
     "name": "stdout",
     "output_type": "stream",
     "text": [
      "0/1000 Iterations: val loss: 2.5617374181747437, val accuracy: 0.08579282462596893\n",
      "100/1000 Iterations: val loss: 2.4102375507354736, val accuracy: 0.2335069477558136\n",
      "200/1000 Iterations: val loss: 2.4126192331314087, val accuracy: 0.24840857088565826\n",
      "300/1000 Iterations: val loss: 2.4184833765029907, val accuracy: 0.2408854141831398\n",
      "400/1000 Iterations: val loss: 2.422072410583496, val accuracy: 0.24551504105329514\n",
      "500/1000 Iterations: val loss: 2.428613066673279, val accuracy: 0.24320023506879807\n",
      "600/1000 Iterations: val loss: 2.4352664947509766, val accuracy: 0.2352430522441864\n",
      "700/1000 Iterations: val loss: 2.4373056888580322, val accuracy: 0.23625578731298447\n",
      "800/1000 Iterations: val loss: 2.440883159637451, val accuracy: 0.2339409664273262\n",
      "900/1000 Iterations: val loss: 2.4406795501708984, val accuracy: 0.2352430522441864\n"
     ]
    }
   ],
   "source": [
    "language = generate_uniform_language_fixed_length(vocab, len(meta), MAX_LENGTH)\n",
    "\n",
    "while g < NUM_GENERATIONS:\n",
    "    dataset = ILDataset(meta, language)\n",
    "    train_length = int(0.6 * len(meta))\n",
    "    valid_length = int(0.1 * len(meta))\n",
    "    test_length = len(meta) - train_length - valid_length\n",
    "\n",
    "    train_dataset, valid_dataset, test_dataset = random_split(dataset, [train_length, valid_length, test_length])    \n",
    "    train_dataloader = DataLoader(train_dataset, batch_size=BATCH_SIZE)\n",
    "    valid_dataloader = DataLoader(valid_dataset, batch_size=BATCH_SIZE)\n",
    "    test_dataloader = DataLoader(test_dataset, batch_size=BATCH_SIZE)\n",
    "\n",
    "    model = LSTMModel(vocab.full_vocab_size, MAX_LENGTH)\n",
    "    optimizer = torch.optim.Adam(model.parameters())\n",
    "    trainer = ILTrainer(model)\n",
    "    trainer.to(device)\n",
    "\n",
    "    i = 0\n",
    "    while i < NUM_ITERATIONS:\n",
    "        for (batch, targets) in train_dataloader:\n",
    "            loss, acc = train_one_batch(trainer, batch, targets, optimizer)\n",
    "            if i % LOG_INTERVAL == 0:\n",
    "                valid_loss_meter, valid_acc_meter, valid_messages = evaluate(\n",
    "                    trainer, valid_dataloader)\n",
    "                print(\n",
    "                    \"{}/{} Iterations: val loss: {}, val accuracy: {}\".format(\n",
    "                        i,\n",
    "                        NUM_ITERATIONS,\n",
    "                        valid_loss_meter.avg,\n",
    "                        valid_acc_meter.avg))\n",
    "            i += 1\n",
    "\n",
    "    language = "
   ]
  },
  {
   "cell_type": "code",
   "execution_count": null,
   "metadata": {},
   "outputs": [],
   "source": []
  },
  {
   "cell_type": "code",
   "execution_count": null,
   "metadata": {},
   "outputs": [],
   "source": []
  },
  {
   "cell_type": "code",
   "execution_count": null,
   "metadata": {},
   "outputs": [],
   "source": []
  },
  {
   "cell_type": "code",
   "execution_count": null,
   "metadata": {},
   "outputs": [],
   "source": []
  },
  {
   "cell_type": "code",
   "execution_count": null,
   "metadata": {},
   "outputs": [],
   "source": []
  }
 ],
 "metadata": {
  "kernelspec": {
   "display_name": "Python 3",
   "language": "python",
   "name": "python3"
  },
  "language_info": {
   "codemirror_mode": {
    "name": "ipython",
    "version": 3
   },
   "file_extension": ".py",
   "mimetype": "text/x-python",
   "name": "python",
   "nbconvert_exporter": "python",
   "pygments_lexer": "ipython3",
   "version": "3.7.2"
  }
 },
 "nbformat": 4,
 "nbformat_minor": 2
}
