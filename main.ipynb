{
 "cells": [
  {
   "cell_type": "code",
   "execution_count": null,
   "metadata": {},
   "outputs": [],
   "source": [
    "import pickle\n",
    "import argparse\n",
    "import sys\n",
    "\n",
    "import numpy as np\n",
    "import scipy.spatial\n",
    "import scipy.stats\n",
    "\n",
    "import torch\n",
    "import torch.nn as nn\n",
    "from torch.nn import functional as F\n",
    "\n",
    "from tensorboardX import SummaryWriter\n",
    "\n",
    "from model import ILTrainer, LSTMModel\n",
    "from utils import *\n",
    "from data import *\n",
    "\n",
    "device = torch.device(\"cuda\" if torch.cuda.is_available() else \"cpu\")\n",
    "\n",
    "SEED = 42\n",
    "VOCAB_SIZE = 10\n",
    "MAX_LENGTH = 5\n",
    "BATCH_SIZE = 64\n",
    "NUM_ITERATIONS = 1000\n",
    "LOG_INTERVAL = 100\n",
    "NUM_GENERATIONS = 20"
   ]
  },
  {
   "cell_type": "markdown",
   "metadata": {},
   "source": [
    "#### Seed and load data"
   ]
  },
  {
   "cell_type": "code",
   "execution_count": null,
   "metadata": {},
   "outputs": [],
   "source": [
    "seed_torch(seed=SEED)\n",
    "\n",
    "vocab = AgentVocab(VOCAB_SIZE)\n",
    "meta = get_encoded_metadata()"
   ]
  },
  {
   "cell_type": "markdown",
   "metadata": {},
   "source": [
    "## Run Iterated Learning"
   ]
  },
  {
   "cell_type": "code",
   "execution_count": null,
   "metadata": {},
   "outputs": [],
   "source": [
    "language = generate_uniform_language_fixed_length(vocab, len(meta), MAX_LENGTH)\n",
    "\n",
    "for g in range(NUM_GENERATIONS):\n",
    "    dataset = ILDataset(meta, language)\n",
    "    \n",
    "    train_dataloader, valid_dataloader, test_dataloader = split_dataset_into_dataloaders(dataset, batch_size=BATCH_SIZE)\n",
    "    \n",
    "    model = LSTMModel(vocab.full_vocab_size, MAX_LENGTH)\n",
    "    optimizer = torch.optim.Adam(model.parameters())\n",
    "    trainer = ILTrainer(model)\n",
    "    trainer.to(device)\n",
    "\n",
    "    i = 0\n",
    "    while i < NUM_ITERATIONS:\n",
    "        for (batch, targets) in train_dataloader:\n",
    "            loss, acc = train_one_batch(trainer, batch, targets, optimizer)\n",
    "            if i % LOG_INTERVAL == 0:\n",
    "                valid_loss_meter, valid_acc_meter, sequences = evaluate(\n",
    "                    trainer, valid_dataloader)\n",
    "                print(\n",
    "                    \"{}/{} Iterations: val loss: {}, val accuracy: {}\".format(\n",
    "                        i,\n",
    "                        NUM_ITERATIONS,\n",
    "                        valid_loss_meter.avg,\n",
    "                        valid_acc_meter.avg))\n",
    "            i += 1\n",
    "\n",
    "    language = infer_new_language(trainer, dataset, batch_size=BATCH_SIZE)"
   ]
  },
  {
   "cell_type": "code",
   "execution_count": null,
   "metadata": {},
   "outputs": [],
   "source": []
  }
 ],
 "metadata": {
  "kernelspec": {
   "display_name": "Python 3",
   "language": "python",
   "name": "python3"
  },
  "language_info": {
   "codemirror_mode": {
    "name": "ipython",
    "version": 3
   },
   "file_extension": ".py",
   "mimetype": "text/x-python",
   "name": "python",
   "nbconvert_exporter": "python",
   "pygments_lexer": "ipython3",
   "version": "3.7.2"
  }
 },
 "nbformat": 4,
 "nbformat_minor": 2
}
